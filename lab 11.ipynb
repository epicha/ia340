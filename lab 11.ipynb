{
 "cells": [
  {
   "cell_type": "markdown",
   "metadata": {},
   "source": [
    "# Collect Tweets into MongoDB"
   ]
  },
  {
   "cell_type": "markdown",
   "metadata": {},
   "source": [
    "## Install Python libraries\n",
    "\n",
    "You may need to restart your Jupyter Notebook instance after installed those libraries."
   ]
  },
  {
   "cell_type": "code",
   "execution_count": 2,
   "metadata": {
    "scrolled": true
   },
   "outputs": [
    {
     "name": "stdout",
     "output_type": "stream",
     "text": [
      "Requirement already satisfied: pymongo in /home/ec2-user/anaconda3/envs/python3/lib/python3.6/site-packages (3.12.2)\n",
      "\u001b[33mWARNING: You are using pip version 21.2.4; however, version 21.3.1 is available.\n",
      "You should consider upgrading via the '/home/ec2-user/anaconda3/envs/python3/bin/python -m pip install --upgrade pip' command.\u001b[0m\n"
     ]
    }
   ],
   "source": [
    "!pip install pymongo"
   ]
  },
  {
   "cell_type": "code",
   "execution_count": 3,
   "metadata": {},
   "outputs": [
    {
     "name": "stdout",
     "output_type": "stream",
     "text": [
      "Requirement already satisfied: pymongo[srv] in /home/ec2-user/anaconda3/envs/python3/lib/python3.6/site-packages (3.12.2)\n",
      "Collecting dnspython<3.0.0,>=1.16.0\n",
      "  Downloading dnspython-2.1.0-py3-none-any.whl (241 kB)\n",
      "\u001b[K     |████████████████████████████████| 241 kB 23.1 MB/s eta 0:00:01\n",
      "\u001b[?25hInstalling collected packages: dnspython\n",
      "Successfully installed dnspython-2.1.0\n",
      "\u001b[33mWARNING: You are using pip version 21.2.4; however, version 21.3.1 is available.\n",
      "You should consider upgrading via the '/home/ec2-user/anaconda3/envs/python3/bin/python -m pip install --upgrade pip' command.\u001b[0m\n"
     ]
    }
   ],
   "source": [
    "!pip install pymongo[srv]"
   ]
  },
  {
   "cell_type": "code",
   "execution_count": 4,
   "metadata": {},
   "outputs": [
    {
     "name": "stdout",
     "output_type": "stream",
     "text": [
      "Requirement already satisfied: dnspython in /home/ec2-user/anaconda3/envs/python3/lib/python3.6/site-packages (2.1.0)\n",
      "\u001b[33mWARNING: You are using pip version 21.2.4; however, version 21.3.1 is available.\n",
      "You should consider upgrading via the '/home/ec2-user/anaconda3/envs/python3/bin/python -m pip install --upgrade pip' command.\u001b[0m\n"
     ]
    }
   ],
   "source": [
    "!pip install dnspython"
   ]
  },
  {
   "cell_type": "code",
   "execution_count": 5,
   "metadata": {
    "scrolled": true
   },
   "outputs": [
    {
     "name": "stdout",
     "output_type": "stream",
     "text": [
      "Collecting tweepy\n",
      "  Downloading tweepy-4.4.0-py2.py3-none-any.whl (65 kB)\n",
      "\u001b[K     |████████████████████████████████| 65 kB 4.4 MB/s  eta 0:00:01\n",
      "\u001b[?25hRequirement already satisfied: requests<3,>=2.11.1 in /home/ec2-user/anaconda3/envs/python3/lib/python3.6/site-packages (from tweepy) (2.26.0)\n",
      "Collecting requests-oauthlib<2,>=1.0.0\n",
      "  Downloading requests_oauthlib-1.3.0-py2.py3-none-any.whl (23 kB)\n",
      "Requirement already satisfied: certifi>=2017.4.17 in /home/ec2-user/anaconda3/envs/python3/lib/python3.6/site-packages (from requests<3,>=2.11.1->tweepy) (2021.10.8)\n",
      "Requirement already satisfied: charset-normalizer~=2.0.0 in /home/ec2-user/anaconda3/envs/python3/lib/python3.6/site-packages (from requests<3,>=2.11.1->tweepy) (2.0.7)\n",
      "Requirement already satisfied: idna<4,>=2.5 in /home/ec2-user/anaconda3/envs/python3/lib/python3.6/site-packages (from requests<3,>=2.11.1->tweepy) (3.3)\n",
      "Requirement already satisfied: urllib3<1.27,>=1.21.1 in /home/ec2-user/anaconda3/envs/python3/lib/python3.6/site-packages (from requests<3,>=2.11.1->tweepy) (1.26.7)\n",
      "Collecting oauthlib>=3.0.0\n",
      "  Downloading oauthlib-3.1.1-py2.py3-none-any.whl (146 kB)\n",
      "\u001b[K     |████████████████████████████████| 146 kB 64.5 MB/s eta 0:00:01\n",
      "\u001b[?25hInstalling collected packages: oauthlib, requests-oauthlib, tweepy\n",
      "Successfully installed oauthlib-3.1.1 requests-oauthlib-1.3.0 tweepy-4.4.0\n",
      "\u001b[33mWARNING: You are using pip version 21.2.4; however, version 21.3.1 is available.\n",
      "You should consider upgrading via the '/home/ec2-user/anaconda3/envs/python3/bin/python -m pip install --upgrade pip' command.\u001b[0m\n"
     ]
    }
   ],
   "source": [
    "!pip install tweepy"
   ]
  },
  {
   "cell_type": "code",
   "execution_count": 6,
   "metadata": {
    "scrolled": true
   },
   "outputs": [
    {
     "name": "stdout",
     "output_type": "stream",
     "text": [
      "Collecting twitter\n",
      "  Downloading twitter-1.19.3-py2.py3-none-any.whl (50 kB)\n",
      "\u001b[K     |████████████████████████████████| 50 kB 7.0 MB/s  eta 0:00:01\n",
      "\u001b[?25hInstalling collected packages: twitter\n",
      "Successfully installed twitter-1.19.3\n",
      "\u001b[33mWARNING: You are using pip version 21.2.4; however, version 21.3.1 is available.\n",
      "You should consider upgrading via the '/home/ec2-user/anaconda3/envs/python3/bin/python -m pip install --upgrade pip' command.\u001b[0m\n"
     ]
    }
   ],
   "source": [
    "!pip install twitter"
   ]
  },
  {
   "cell_type": "markdown",
   "metadata": {},
   "source": [
    "## Import Python libraries"
   ]
  },
  {
   "cell_type": "code",
   "execution_count": 7,
   "metadata": {},
   "outputs": [],
   "source": [
    "import pymongo\n",
    "from pymongo import MongoClient\n",
    "import json\n",
    "import tweepy\n",
    "import twitter\n",
    "from pprint import pprint\n",
    "import configparser\n",
    "import pandas as pd"
   ]
  },
  {
   "cell_type": "markdown",
   "metadata": {},
   "source": [
    "##  Load the Authorization Info"
   ]
  },
  {
   "cell_type": "markdown",
   "metadata": {},
   "source": [
    "Save database connection info and API Keys in a config.ini file and use the configparse to load the authorization info. "
   ]
  },
  {
   "cell_type": "code",
   "execution_count": 8,
   "metadata": {},
   "outputs": [],
   "source": [
    "config = configparser.ConfigParser()\n",
    "config.read('config.ini')\n",
    "\n",
    "CONSUMER_KEY      = config['mytwitter']['api_key']\n",
    "CONSUMER_SECRET   = config['mytwitter']['api_secrete']\n",
    "OAUTH_TOKEN       = config['mytwitter']['access_token']\n",
    "OATH_TOKEN_SECRET = config['mytwitter']['access_secrete']\n",
    "\n",
    "mongod_connect = config['mymongo']['connection']"
   ]
  },
  {
   "cell_type": "markdown",
   "metadata": {},
   "source": [
    "## Connect to the MongoDB Cluster"
   ]
  },
  {
   "cell_type": "code",
   "execution_count": 11,
   "metadata": {},
   "outputs": [
    {
     "data": {
      "text/plain": [
       "'id_1'"
      ]
     },
     "execution_count": 11,
     "metadata": {},
     "output_type": "execute_result"
    }
   ],
   "source": [
    "client = MongoClient(mongod_connect)\n",
    "db = client.gp1 # use or create a database named demo\n",
    "tweet_collection = db.lab11 #use or create a collection named tweet_collection\n",
    "tweet_collection.create_index([(\"id\", pymongo.ASCENDING)],unique = True) # make sure the collected tweets are unique"
   ]
  },
  {
   "cell_type": "markdown",
   "metadata": {},
   "source": [
    "## Use the Streaming API to Collect Tweets"
   ]
  },
  {
   "cell_type": "markdown",
   "metadata": {},
   "source": [
    "Authorize the Stream API "
   ]
  },
  {
   "cell_type": "code",
   "execution_count": 12,
   "metadata": {},
   "outputs": [],
   "source": [
    "stream_auth = tweepy.OAuthHandler(CONSUMER_KEY, CONSUMER_SECRET)\n",
    "stream_auth.set_access_token(OAUTH_TOKEN, OATH_TOKEN_SECRET)\n",
    "\n",
    "strem_api = tweepy.API(stream_auth)"
   ]
  },
  {
   "cell_type": "markdown",
   "metadata": {},
   "source": [
    "Define the query for the Stream API"
   ]
  },
  {
   "cell_type": "code",
   "execution_count": 5,
   "metadata": {},
   "outputs": [],
   "source": [
    "track = ['election'] # define the keywords, tweets contain election\n",
    "\n",
    "locations = [-78.9326449,38.4150904,-78.8816972,38.4450731] #defin the location, in Harrisonburg, VA"
   ]
  },
  {
   "cell_type": "markdown",
   "metadata": {},
   "source": [
    "The collected tweets will contain 'election' <span style=\"color:red;font-weight:bold\"> OR </span> are located in Harrisonburg, VA"
   ]
  },
  {
   "cell_type": "code",
   "execution_count": null,
   "metadata": {
    "scrolled": true
   },
   "outputs": [],
   "source": [
    "class MyStreamListener(tweepy.StreamListener):\n",
    "    def on_status(self, status):\n",
    "        print (status.id_str)\n",
    "        try:\n",
    "            tweet_collection.insert_one(status._json)\n",
    "        except:\n",
    "            pass\n",
    "  \n",
    "    def on_error(self, status_code):\n",
    "        if status_code == 420:\n",
    "            #returning False in on_data disconnects the stream\n",
    "            return False\n",
    "myStreamListener = MyStreamListener()\n",
    "myStream = tweepy.Stream(auth = strem_api.auth, listener=myStreamListener)\n",
    "myStream.filter(track=track)#  (locations = locations)   #Use either track or locations"
   ]
  },
  {
   "cell_type": "markdown",
   "metadata": {},
   "source": [
    "## Use the REST API to Collect Tweets"
   ]
  },
  {
   "cell_type": "markdown",
   "metadata": {},
   "source": [
    "Authorize the REST API "
   ]
  },
  {
   "cell_type": "code",
   "execution_count": 13,
   "metadata": {},
   "outputs": [],
   "source": [
    "rest_auth = twitter.oauth.OAuth(OAUTH_TOKEN,OATH_TOKEN_SECRET,CONSUMER_KEY,CONSUMER_SECRET)\n",
    "rest_api = twitter.Twitter(auth=rest_auth)"
   ]
  },
  {
   "cell_type": "markdown",
   "metadata": {},
   "source": [
    "Define the query for the REST API"
   ]
  },
  {
   "cell_type": "code",
   "execution_count": 14,
   "metadata": {},
   "outputs": [],
   "source": [
    "count = 100 #number of returned tweets, default and max is 100\n",
    "geocode = \"37.5245782,-77.6333492,150mi\"  # defin the location, in Harrisonburg, VA\n",
    "q = \"covid19\"                               #define the keywords, tweets contain election"
   ]
  },
  {
   "cell_type": "markdown",
   "metadata": {},
   "source": [
    "The collected tweets will contain 'election' <span style=\"color:red;font-weight:bold\"> AND </span> are located in Harrisonburg, VA"
   ]
  },
  {
   "cell_type": "code",
   "execution_count": 15,
   "metadata": {},
   "outputs": [
    {
     "name": "stdout",
     "output_type": "stream",
     "text": [
      "'Mon Nov 29 21:13:22 +0000 2021'\n",
      "'Mon Nov 29 21:12:30 +0000 2021'\n",
      "'Mon Nov 29 21:12:13 +0000 2021'\n",
      "'Mon Nov 29 21:12:01 +0000 2021'\n",
      "'Mon Nov 29 21:11:41 +0000 2021'\n",
      "'Mon Nov 29 21:11:08 +0000 2021'\n",
      "'Mon Nov 29 21:10:38 +0000 2021'\n",
      "'Mon Nov 29 21:07:49 +0000 2021'\n",
      "'Mon Nov 29 21:07:01 +0000 2021'\n",
      "'Mon Nov 29 21:05:03 +0000 2021'\n",
      "'Mon Nov 29 21:01:42 +0000 2021'\n",
      "'Mon Nov 29 21:01:07 +0000 2021'\n",
      "'Mon Nov 29 21:01:07 +0000 2021'\n",
      "'Mon Nov 29 21:00:53 +0000 2021'\n",
      "'Mon Nov 29 21:00:07 +0000 2021'\n",
      "'Mon Nov 29 20:59:00 +0000 2021'\n",
      "'Mon Nov 29 20:53:07 +0000 2021'\n",
      "'Mon Nov 29 20:53:00 +0000 2021'\n",
      "'Mon Nov 29 20:52:30 +0000 2021'\n",
      "'Mon Nov 29 20:50:12 +0000 2021'\n",
      "'Mon Nov 29 20:49:10 +0000 2021'\n",
      "'Mon Nov 29 20:48:06 +0000 2021'\n",
      "'Mon Nov 29 20:47:17 +0000 2021'\n",
      "'Mon Nov 29 20:45:40 +0000 2021'\n",
      "'Mon Nov 29 20:44:05 +0000 2021'\n",
      "'Mon Nov 29 20:43:25 +0000 2021'\n",
      "'Mon Nov 29 20:42:11 +0000 2021'\n",
      "'Mon Nov 29 20:41:16 +0000 2021'\n",
      "'Mon Nov 29 20:41:13 +0000 2021'\n",
      "'Mon Nov 29 20:37:36 +0000 2021'\n",
      "'Mon Nov 29 20:34:10 +0000 2021'\n",
      "'Mon Nov 29 20:30:15 +0000 2021'\n",
      "'Mon Nov 29 20:30:00 +0000 2021'\n",
      "'Mon Nov 29 20:28:08 +0000 2021'\n",
      "'Mon Nov 29 20:27:09 +0000 2021'\n",
      "'Mon Nov 29 20:26:25 +0000 2021'\n",
      "'Mon Nov 29 20:26:09 +0000 2021'\n",
      "'Mon Nov 29 20:25:32 +0000 2021'\n",
      "'Mon Nov 29 20:18:20 +0000 2021'\n",
      "'Mon Nov 29 20:15:06 +0000 2021'\n",
      "'Mon Nov 29 20:14:48 +0000 2021'\n",
      "'Mon Nov 29 20:10:04 +0000 2021'\n",
      "'Mon Nov 29 20:10:01 +0000 2021'\n",
      "'Mon Nov 29 20:08:51 +0000 2021'\n",
      "'Mon Nov 29 20:05:02 +0000 2021'\n",
      "'Mon Nov 29 20:04:03 +0000 2021'\n",
      "'Mon Nov 29 20:03:41 +0000 2021'\n",
      "'Mon Nov 29 20:01:18 +0000 2021'\n",
      "'Mon Nov 29 20:00:39 +0000 2021'\n",
      "'Mon Nov 29 20:00:26 +0000 2021'\n",
      "'Mon Nov 29 20:00:18 +0000 2021'\n",
      "'Mon Nov 29 20:00:17 +0000 2021'\n",
      "'Mon Nov 29 20:00:10 +0000 2021'\n",
      "'Mon Nov 29 20:00:07 +0000 2021'\n",
      "'Mon Nov 29 20:00:05 +0000 2021'\n",
      "'Mon Nov 29 19:59:59 +0000 2021'\n",
      "'Mon Nov 29 19:58:01 +0000 2021'\n",
      "'Mon Nov 29 19:57:38 +0000 2021'\n",
      "'Mon Nov 29 19:56:55 +0000 2021'\n",
      "'Mon Nov 29 19:56:00 +0000 2021'\n",
      "'Mon Nov 29 19:50:02 +0000 2021'\n",
      "'Mon Nov 29 19:48:54 +0000 2021'\n",
      "'Mon Nov 29 19:47:50 +0000 2021'\n",
      "'Mon Nov 29 19:47:49 +0000 2021'\n",
      "'Mon Nov 29 19:47:25 +0000 2021'\n",
      "'Mon Nov 29 19:45:00 +0000 2021'\n",
      "'Mon Nov 29 19:42:35 +0000 2021'\n",
      "'Mon Nov 29 19:38:27 +0000 2021'\n",
      "'Mon Nov 29 19:38:01 +0000 2021'\n",
      "'Mon Nov 29 19:36:47 +0000 2021'\n",
      "'Mon Nov 29 19:33:43 +0000 2021'\n",
      "'Mon Nov 29 19:33:21 +0000 2021'\n",
      "'Mon Nov 29 19:33:20 +0000 2021'\n",
      "'Mon Nov 29 19:31:58 +0000 2021'\n",
      "'Mon Nov 29 19:31:37 +0000 2021'\n",
      "'Mon Nov 29 19:30:50 +0000 2021'\n",
      "'Mon Nov 29 19:30:15 +0000 2021'\n",
      "'Mon Nov 29 19:30:13 +0000 2021'\n",
      "'Mon Nov 29 19:30:11 +0000 2021'\n",
      "'Mon Nov 29 19:30:05 +0000 2021'\n",
      "'Mon Nov 29 19:30:02 +0000 2021'\n",
      "'Mon Nov 29 19:28:54 +0000 2021'\n",
      "'Mon Nov 29 19:28:16 +0000 2021'\n",
      "'Mon Nov 29 19:27:00 +0000 2021'\n",
      "'Mon Nov 29 19:23:45 +0000 2021'\n",
      "'Mon Nov 29 19:19:53 +0000 2021'\n",
      "'Mon Nov 29 19:16:07 +0000 2021'\n",
      "'Mon Nov 29 19:15:08 +0000 2021'\n",
      "'Mon Nov 29 19:12:04 +0000 2021'\n",
      "'Mon Nov 29 19:11:26 +0000 2021'\n",
      "'Mon Nov 29 19:09:49 +0000 2021'\n",
      "'Mon Nov 29 19:09:01 +0000 2021'\n",
      "'Mon Nov 29 19:08:26 +0000 2021'\n",
      "'Mon Nov 29 19:07:16 +0000 2021'\n",
      "'Mon Nov 29 19:03:59 +0000 2021'\n",
      "'Mon Nov 29 19:02:44 +0000 2021'\n",
      "'Mon Nov 29 19:02:12 +0000 2021'\n",
      "'Mon Nov 29 19:02:01 +0000 2021'\n",
      "'Mon Nov 29 19:01:20 +0000 2021'\n",
      "'Mon Nov 29 19:00:32 +0000 2021'\n"
     ]
    }
   ],
   "source": [
    "search_results = rest_api.search.tweets( count=count,q=q, geocode=geocode) #you can use both q and geocode\n",
    "statuses = search_results[\"statuses\"]\n",
    "since_id_new = statuses[-1]['id']\n",
    "for statuse in statuses:\n",
    "    try:\n",
    "        tweet_collection.insert_one(statuse)\n",
    "        pprint(statuse['created_at'])# print the date of the collected tweets\n",
    "    except:\n",
    "        pass"
   ]
  },
  {
   "cell_type": "markdown",
   "metadata": {},
   "source": [
    "Continue fetching early tweets with the same query. \n",
    "<p><span style=\"color:red;font-weight:bold\">YOU WILL REACH YOUR RATE LIMIT VERY FAST</span></p>"
   ]
  },
  {
   "cell_type": "code",
   "execution_count": 19,
   "metadata": {
    "scrolled": false
   },
   "outputs": [],
   "source": [
    "since_id_old = 0\n",
    "while(since_id_new != since_id_old):\n",
    "    since_id_old = since_id_new\n",
    "    search_results = rest_api.search.tweets( count=count,q=q,\n",
    "                        geocode=geocode, max_id= since_id_new)\n",
    "    statuses = search_results[\"statuses\"]\n",
    "    since_id_new = statuses[-1]['id']\n",
    "    for statuse in statuses:\n",
    "        try:\n",
    "            tweet_collection.insert_one(statuse)\n",
    "            pprint(statuse['created_at']) # print the date of the collected tweets\n",
    "        except:\n",
    "            pass"
   ]
  },
  {
   "cell_type": "markdown",
   "metadata": {},
   "source": [
    "## View the Collected Tweets"
   ]
  },
  {
   "cell_type": "markdown",
   "metadata": {},
   "source": [
    "Print the number of tweets and unique twitter users"
   ]
  },
  {
   "cell_type": "code",
   "execution_count": 20,
   "metadata": {},
   "outputs": [
    {
     "name": "stdout",
     "output_type": "stream",
     "text": [
      "3720\n",
      "1757\n"
     ]
    }
   ],
   "source": [
    "print(tweet_collection.estimated_document_count())# number of tweets collected\n",
    "\n",
    "user_cursor = tweet_collection.distinct(\"user.id\")\n",
    "print (len(user_cursor)) # number of unique Twitter users "
   ]
  },
  {
   "cell_type": "markdown",
   "metadata": {},
   "source": [
    "Create a text index and print the Tweets containing specific keywords. "
   ]
  },
  {
   "cell_type": "code",
   "execution_count": 21,
   "metadata": {
    "scrolled": false
   },
   "outputs": [
    {
     "data": {
      "text/plain": [
       "'text_index'"
      ]
     },
     "execution_count": 21,
     "metadata": {},
     "output_type": "execute_result"
    }
   ],
   "source": [
    "tweet_collection.create_index([(\"text\", pymongo.TEXT)], name='text_index', default_language='english') # create a text index\n"
   ]
  },
  {
   "cell_type": "markdown",
   "metadata": {},
   "source": [
    "Create a cursor to query tweets with the created index"
   ]
  },
  {
   "cell_type": "code",
   "execution_count": 22,
   "metadata": {},
   "outputs": [],
   "source": [
    "tweet_cursor = tweet_collection.find({\"$text\": {\"$search\": \"covid19\"}}) # return tweets contain vote"
   ]
  },
  {
   "cell_type": "markdown",
   "metadata": {},
   "source": [
    "Use pprint to display tweets"
   ]
  },
  {
   "cell_type": "code",
   "execution_count": 23,
   "metadata": {
    "scrolled": false
   },
   "outputs": [
    {
     "name": "stdout",
     "output_type": "stream",
     "text": [
      "----\n",
      "name: Rufus Hazelwood\n",
      "text: So the vax doesn't prevent getting #COVID19, Masks doesn't prevent #COVID19, #COVID19 will never ever go away since… https://t.co/Qcxi4N1leK\n",
      "----\n",
      "name: Leonardo\n",
      "text: Covid19 Deaths in 2020: 385,343\n",
      "Covid19 Deaths in 2021: 385,537\n",
      "Thank you all ANTI-VAXXERS!\n",
      "#Covid19 #CovidDeath… https://t.co/ckxALceK9E\n",
      "----\n",
      "name: Ana CM\n",
      "text: @RAEinforma duda es el covid19 o la Covid19?\n",
      "----\n",
      "name: Lakapartments\n",
      "text: @joncoopertweets Not to have COVID19!\n",
      "Not 1 person in both of my companies had COVID19 from the beginning!\n",
      "Why?\n",
      "Bec… https://t.co/tD8hYgYfFx\n",
      "----\n",
      "name: ACPM\n",
      "text: Protect your kids from #COVID19 by getting them vaccinated. Become #VaccineConfident by learning how the #COVID19 v… https://t.co/orE4CNgrQg\n",
      "----\n",
      "name: GrannySidney\n",
      "text: Benton County Arkansas lost this deputy to #COVID19  There are more deaths by #COVID19 than any other cause for 2 y… https://t.co/GsGedNpzDC\n",
      "----\n",
      "name: Climate Change\n",
      "text: Almost the whole world is back to pre-Covid19 life, and we here in America have more Covid19 deaths than last year!… https://t.co/n5Rc4azhR5\n",
      "----\n",
      "name: University of California Health\n",
      "text: 3/7  31 #COVID19 @UofCAHealth inpatients are on a ventilator.  13 COVID19 inpatients are on extracorporeal membrane… https://t.co/WNBLAZewda\n",
      "----\n",
      "name: Mashea M Ashton\n",
      "text: With the holiday season and colder weather approaching, be sure to get your #COVID19 booster shot and the COVID19 v… https://t.co/QoOUBJsC05\n",
      "----\n",
      "name: NM Public Health Association\n",
      "text: It's the week of Thanks(giving)\n",
      "Thanks for thinking of getting the COVID19 vaccine\n",
      "Thanks for getting the COVID19 v… https://t.co/D5x8XatuMG\n"
     ]
    }
   ],
   "source": [
    "\n",
    "for document in tweet_cursor[0:10]: # display the first 10 tweets from the query\n",
    "    try:\n",
    "        print ('----')\n",
    "#         pprint (document) # use pprint to print the entire tweet document\n",
    "   \n",
    "        print ('name:', document[\"user\"][\"name\"]) # user name\n",
    "        print ('text:', document[\"text\"])         # tweets\n",
    "    except:\n",
    "        print (\"***error in encoding\")\n",
    "        pass"
   ]
  },
  {
   "cell_type": "code",
   "execution_count": 24,
   "metadata": {},
   "outputs": [],
   "source": [
    "tweet_cursor = tweet_collection.find({\"$text\": {\"$search\": \"covid19\"}}) # return tweets contain vote"
   ]
  },
  {
   "cell_type": "markdown",
   "metadata": {},
   "source": [
    "Use pandas to display tweets"
   ]
  },
  {
   "cell_type": "code",
   "execution_count": 25,
   "metadata": {},
   "outputs": [
    {
     "data": {
      "text/html": [
       "<div>\n",
       "<style scoped>\n",
       "    .dataframe tbody tr th:only-of-type {\n",
       "        vertical-align: middle;\n",
       "    }\n",
       "\n",
       "    .dataframe tbody tr th {\n",
       "        vertical-align: top;\n",
       "    }\n",
       "\n",
       "    .dataframe thead th {\n",
       "        text-align: right;\n",
       "    }\n",
       "</style>\n",
       "<table border=\"1\" class=\"dataframe\">\n",
       "  <thead>\n",
       "    <tr style=\"text-align: right;\">\n",
       "      <th></th>\n",
       "      <th>_id</th>\n",
       "      <th>created_at</th>\n",
       "      <th>id</th>\n",
       "      <th>id_str</th>\n",
       "      <th>text</th>\n",
       "      <th>truncated</th>\n",
       "      <th>entities</th>\n",
       "      <th>metadata</th>\n",
       "      <th>source</th>\n",
       "      <th>in_reply_to_status_id</th>\n",
       "      <th>...</th>\n",
       "      <th>favorite_count</th>\n",
       "      <th>favorited</th>\n",
       "      <th>retweeted</th>\n",
       "      <th>lang</th>\n",
       "      <th>possibly_sensitive</th>\n",
       "      <th>quoted_status_id</th>\n",
       "      <th>quoted_status_id_str</th>\n",
       "      <th>quoted_status</th>\n",
       "      <th>extended_entities</th>\n",
       "      <th>withheld_in_countries</th>\n",
       "    </tr>\n",
       "  </thead>\n",
       "  <tbody>\n",
       "    <tr>\n",
       "      <th>0</th>\n",
       "      <td>61a54390beecf6e44cc3b369</td>\n",
       "      <td>Mon Nov 29 17:17:47 +0000 2021</td>\n",
       "      <td>1465369409913032705</td>\n",
       "      <td>1465369409913032705</td>\n",
       "      <td>So the vax doesn't prevent getting #COVID19, M...</td>\n",
       "      <td>True</td>\n",
       "      <td>{'hashtags': [{'text': 'COVID19', 'indices': [...</td>\n",
       "      <td>{'iso_language_code': 'en', 'result_type': 're...</td>\n",
       "      <td>&lt;a href=\"https://mobile.twitter.com\" rel=\"nofo...</td>\n",
       "      <td>NaN</td>\n",
       "      <td>...</td>\n",
       "      <td>0</td>\n",
       "      <td>False</td>\n",
       "      <td>False</td>\n",
       "      <td>en</td>\n",
       "      <td>NaN</td>\n",
       "      <td>NaN</td>\n",
       "      <td>NaN</td>\n",
       "      <td>NaN</td>\n",
       "      <td>NaN</td>\n",
       "      <td>NaN</td>\n",
       "    </tr>\n",
       "    <tr>\n",
       "      <th>1</th>\n",
       "      <td>61a54528beecf6e44cc3c0a2</td>\n",
       "      <td>Sun Nov 21 20:02:25 +0000 2021</td>\n",
       "      <td>1462511737471594496</td>\n",
       "      <td>1462511737471594496</td>\n",
       "      <td>Covid19 Deaths in 2020: 385,343\\nCovid19 Death...</td>\n",
       "      <td>True</td>\n",
       "      <td>{'hashtags': [{'text': 'Covid19', 'indices': [...</td>\n",
       "      <td>{'iso_language_code': 'en', 'result_type': 're...</td>\n",
       "      <td>&lt;a href=\"https://mobile.twitter.com\" rel=\"nofo...</td>\n",
       "      <td>NaN</td>\n",
       "      <td>...</td>\n",
       "      <td>2</td>\n",
       "      <td>False</td>\n",
       "      <td>False</td>\n",
       "      <td>en</td>\n",
       "      <td>False</td>\n",
       "      <td>NaN</td>\n",
       "      <td>NaN</td>\n",
       "      <td>NaN</td>\n",
       "      <td>NaN</td>\n",
       "      <td>NaN</td>\n",
       "    </tr>\n",
       "    <tr>\n",
       "      <th>2</th>\n",
       "      <td>61a544ebbeecf6e44cc3b49f</td>\n",
       "      <td>Mon Nov 29 02:09:16 +0000 2021</td>\n",
       "      <td>1465140776753639429</td>\n",
       "      <td>1465140776753639429</td>\n",
       "      <td>@RAEinforma duda es el covid19 o la Covid19?</td>\n",
       "      <td>False</td>\n",
       "      <td>{'hashtags': [], 'symbols': [], 'user_mentions...</td>\n",
       "      <td>{'result_type': 'recent', 'iso_language_code':...</td>\n",
       "      <td>&lt;a href=\"http://twitter.com/download/iphone\" r...</td>\n",
       "      <td>NaN</td>\n",
       "      <td>...</td>\n",
       "      <td>0</td>\n",
       "      <td>False</td>\n",
       "      <td>False</td>\n",
       "      <td>ca</td>\n",
       "      <td>NaN</td>\n",
       "      <td>NaN</td>\n",
       "      <td>NaN</td>\n",
       "      <td>NaN</td>\n",
       "      <td>NaN</td>\n",
       "      <td>NaN</td>\n",
       "    </tr>\n",
       "    <tr>\n",
       "      <th>3</th>\n",
       "      <td>61a54507beecf6e44cc3ba28</td>\n",
       "      <td>Thu Nov 25 16:02:38 +0000 2021</td>\n",
       "      <td>1463900946774249472</td>\n",
       "      <td>1463900946774249472</td>\n",
       "      <td>@joncoopertweets Not to have COVID19!\\nNot 1 p...</td>\n",
       "      <td>True</td>\n",
       "      <td>{'hashtags': [], 'symbols': [], 'user_mentions...</td>\n",
       "      <td>{'iso_language_code': 'en', 'result_type': 're...</td>\n",
       "      <td>&lt;a href=\"http://twitter.com/download/iphone\" r...</td>\n",
       "      <td>1.463897e+18</td>\n",
       "      <td>...</td>\n",
       "      <td>1</td>\n",
       "      <td>False</td>\n",
       "      <td>False</td>\n",
       "      <td>en</td>\n",
       "      <td>False</td>\n",
       "      <td>NaN</td>\n",
       "      <td>NaN</td>\n",
       "      <td>NaN</td>\n",
       "      <td>NaN</td>\n",
       "      <td>NaN</td>\n",
       "    </tr>\n",
       "    <tr>\n",
       "      <th>4</th>\n",
       "      <td>61a54511beecf6e44cc3bc2c</td>\n",
       "      <td>Wed Nov 24 14:18:00 +0000 2021</td>\n",
       "      <td>1463512227814780931</td>\n",
       "      <td>1463512227814780931</td>\n",
       "      <td>Protect your kids from #COVID19 by getting the...</td>\n",
       "      <td>True</td>\n",
       "      <td>{'hashtags': [{'text': 'COVID19', 'indices': [...</td>\n",
       "      <td>{'iso_language_code': 'en', 'result_type': 're...</td>\n",
       "      <td>&lt;a href=\"https://www.meltwater.com/\" rel=\"nofo...</td>\n",
       "      <td>NaN</td>\n",
       "      <td>...</td>\n",
       "      <td>0</td>\n",
       "      <td>False</td>\n",
       "      <td>False</td>\n",
       "      <td>en</td>\n",
       "      <td>False</td>\n",
       "      <td>NaN</td>\n",
       "      <td>NaN</td>\n",
       "      <td>NaN</td>\n",
       "      <td>NaN</td>\n",
       "      <td>NaN</td>\n",
       "    </tr>\n",
       "    <tr>\n",
       "      <th>5</th>\n",
       "      <td>61a544ebbeecf6e44cc3b496</td>\n",
       "      <td>Mon Nov 29 02:58:47 +0000 2021</td>\n",
       "      <td>1465153236248285190</td>\n",
       "      <td>1465153236248285190</td>\n",
       "      <td>Benton County Arkansas lost this deputy to #CO...</td>\n",
       "      <td>True</td>\n",
       "      <td>{'hashtags': [{'text': 'COVID19', 'indices': [...</td>\n",
       "      <td>{'iso_language_code': 'en', 'result_type': 're...</td>\n",
       "      <td>&lt;a href=\"http://twitter.com/#!/download/ipad\" ...</td>\n",
       "      <td>NaN</td>\n",
       "      <td>...</td>\n",
       "      <td>1</td>\n",
       "      <td>False</td>\n",
       "      <td>False</td>\n",
       "      <td>en</td>\n",
       "      <td>False</td>\n",
       "      <td>NaN</td>\n",
       "      <td>NaN</td>\n",
       "      <td>NaN</td>\n",
       "      <td>NaN</td>\n",
       "      <td>NaN</td>\n",
       "    </tr>\n",
       "    <tr>\n",
       "      <th>6</th>\n",
       "      <td>61a54528beecf6e44cc3c09f</td>\n",
       "      <td>Sun Nov 21 20:13:12 +0000 2021</td>\n",
       "      <td>1462514452398362625</td>\n",
       "      <td>1462514452398362625</td>\n",
       "      <td>Almost the whole world is back to pre-Covid19 ...</td>\n",
       "      <td>True</td>\n",
       "      <td>{'hashtags': [], 'symbols': [], 'user_mentions...</td>\n",
       "      <td>{'iso_language_code': 'en', 'result_type': 're...</td>\n",
       "      <td>&lt;a href=\"https://mobile.twitter.com\" rel=\"nofo...</td>\n",
       "      <td>NaN</td>\n",
       "      <td>...</td>\n",
       "      <td>6</td>\n",
       "      <td>False</td>\n",
       "      <td>False</td>\n",
       "      <td>en</td>\n",
       "      <td>False</td>\n",
       "      <td>NaN</td>\n",
       "      <td>NaN</td>\n",
       "      <td>NaN</td>\n",
       "      <td>NaN</td>\n",
       "      <td>NaN</td>\n",
       "    </tr>\n",
       "    <tr>\n",
       "      <th>7</th>\n",
       "      <td>61a54516beecf6e44cc3bd0b</td>\n",
       "      <td>Tue Nov 23 20:44:31 +0000 2021</td>\n",
       "      <td>1463247110598397955</td>\n",
       "      <td>1463247110598397955</td>\n",
       "      <td>3/7  31 #COVID19 @UofCAHealth inpatients are o...</td>\n",
       "      <td>True</td>\n",
       "      <td>{'hashtags': [{'text': 'COVID19', 'indices': [...</td>\n",
       "      <td>{'iso_language_code': 'en', 'result_type': 're...</td>\n",
       "      <td>&lt;a href=\"http://www.mangotree.com\" rel=\"nofoll...</td>\n",
       "      <td>1.463247e+18</td>\n",
       "      <td>...</td>\n",
       "      <td>1</td>\n",
       "      <td>False</td>\n",
       "      <td>False</td>\n",
       "      <td>en</td>\n",
       "      <td>False</td>\n",
       "      <td>NaN</td>\n",
       "      <td>NaN</td>\n",
       "      <td>NaN</td>\n",
       "      <td>NaN</td>\n",
       "      <td>NaN</td>\n",
       "    </tr>\n",
       "    <tr>\n",
       "      <th>8</th>\n",
       "      <td>61a54514beecf6e44cc3bcb7</td>\n",
       "      <td>Wed Nov 24 00:09:01 +0000 2021</td>\n",
       "      <td>1463298572313636867</td>\n",
       "      <td>1463298572313636867</td>\n",
       "      <td>With the holiday season and colder weather app...</td>\n",
       "      <td>True</td>\n",
       "      <td>{'hashtags': [{'text': 'COVID19', 'indices': [...</td>\n",
       "      <td>{'iso_language_code': 'en', 'result_type': 're...</td>\n",
       "      <td>&lt;a href=\"https://sproutsocial.com\" rel=\"nofoll...</td>\n",
       "      <td>NaN</td>\n",
       "      <td>...</td>\n",
       "      <td>0</td>\n",
       "      <td>False</td>\n",
       "      <td>False</td>\n",
       "      <td>en</td>\n",
       "      <td>False</td>\n",
       "      <td>NaN</td>\n",
       "      <td>NaN</td>\n",
       "      <td>NaN</td>\n",
       "      <td>NaN</td>\n",
       "      <td>NaN</td>\n",
       "    </tr>\n",
       "    <tr>\n",
       "      <th>9</th>\n",
       "      <td>61a54511beecf6e44cc3bbee</td>\n",
       "      <td>Wed Nov 24 15:30:34 +0000 2021</td>\n",
       "      <td>1463530491072548869</td>\n",
       "      <td>1463530491072548869</td>\n",
       "      <td>It's the week of Thanks(giving)\\nThanks for th...</td>\n",
       "      <td>True</td>\n",
       "      <td>{'hashtags': [], 'symbols': [], 'user_mentions...</td>\n",
       "      <td>{'iso_language_code': 'en', 'result_type': 're...</td>\n",
       "      <td>&lt;a href=\"https://mobile.twitter.com\" rel=\"nofo...</td>\n",
       "      <td>NaN</td>\n",
       "      <td>...</td>\n",
       "      <td>0</td>\n",
       "      <td>False</td>\n",
       "      <td>False</td>\n",
       "      <td>en</td>\n",
       "      <td>True</td>\n",
       "      <td>NaN</td>\n",
       "      <td>NaN</td>\n",
       "      <td>NaN</td>\n",
       "      <td>NaN</td>\n",
       "      <td>NaN</td>\n",
       "    </tr>\n",
       "  </tbody>\n",
       "</table>\n",
       "<p>10 rows × 31 columns</p>\n",
       "</div>"
      ],
      "text/plain": [
       "                        _id                      created_at  \\\n",
       "0  61a54390beecf6e44cc3b369  Mon Nov 29 17:17:47 +0000 2021   \n",
       "1  61a54528beecf6e44cc3c0a2  Sun Nov 21 20:02:25 +0000 2021   \n",
       "2  61a544ebbeecf6e44cc3b49f  Mon Nov 29 02:09:16 +0000 2021   \n",
       "3  61a54507beecf6e44cc3ba28  Thu Nov 25 16:02:38 +0000 2021   \n",
       "4  61a54511beecf6e44cc3bc2c  Wed Nov 24 14:18:00 +0000 2021   \n",
       "5  61a544ebbeecf6e44cc3b496  Mon Nov 29 02:58:47 +0000 2021   \n",
       "6  61a54528beecf6e44cc3c09f  Sun Nov 21 20:13:12 +0000 2021   \n",
       "7  61a54516beecf6e44cc3bd0b  Tue Nov 23 20:44:31 +0000 2021   \n",
       "8  61a54514beecf6e44cc3bcb7  Wed Nov 24 00:09:01 +0000 2021   \n",
       "9  61a54511beecf6e44cc3bbee  Wed Nov 24 15:30:34 +0000 2021   \n",
       "\n",
       "                    id               id_str  \\\n",
       "0  1465369409913032705  1465369409913032705   \n",
       "1  1462511737471594496  1462511737471594496   \n",
       "2  1465140776753639429  1465140776753639429   \n",
       "3  1463900946774249472  1463900946774249472   \n",
       "4  1463512227814780931  1463512227814780931   \n",
       "5  1465153236248285190  1465153236248285190   \n",
       "6  1462514452398362625  1462514452398362625   \n",
       "7  1463247110598397955  1463247110598397955   \n",
       "8  1463298572313636867  1463298572313636867   \n",
       "9  1463530491072548869  1463530491072548869   \n",
       "\n",
       "                                                text  truncated  \\\n",
       "0  So the vax doesn't prevent getting #COVID19, M...       True   \n",
       "1  Covid19 Deaths in 2020: 385,343\\nCovid19 Death...       True   \n",
       "2       @RAEinforma duda es el covid19 o la Covid19?      False   \n",
       "3  @joncoopertweets Not to have COVID19!\\nNot 1 p...       True   \n",
       "4  Protect your kids from #COVID19 by getting the...       True   \n",
       "5  Benton County Arkansas lost this deputy to #CO...       True   \n",
       "6  Almost the whole world is back to pre-Covid19 ...       True   \n",
       "7  3/7  31 #COVID19 @UofCAHealth inpatients are o...       True   \n",
       "8  With the holiday season and colder weather app...       True   \n",
       "9  It's the week of Thanks(giving)\\nThanks for th...       True   \n",
       "\n",
       "                                            entities  \\\n",
       "0  {'hashtags': [{'text': 'COVID19', 'indices': [...   \n",
       "1  {'hashtags': [{'text': 'Covid19', 'indices': [...   \n",
       "2  {'hashtags': [], 'symbols': [], 'user_mentions...   \n",
       "3  {'hashtags': [], 'symbols': [], 'user_mentions...   \n",
       "4  {'hashtags': [{'text': 'COVID19', 'indices': [...   \n",
       "5  {'hashtags': [{'text': 'COVID19', 'indices': [...   \n",
       "6  {'hashtags': [], 'symbols': [], 'user_mentions...   \n",
       "7  {'hashtags': [{'text': 'COVID19', 'indices': [...   \n",
       "8  {'hashtags': [{'text': 'COVID19', 'indices': [...   \n",
       "9  {'hashtags': [], 'symbols': [], 'user_mentions...   \n",
       "\n",
       "                                            metadata  \\\n",
       "0  {'iso_language_code': 'en', 'result_type': 're...   \n",
       "1  {'iso_language_code': 'en', 'result_type': 're...   \n",
       "2  {'result_type': 'recent', 'iso_language_code':...   \n",
       "3  {'iso_language_code': 'en', 'result_type': 're...   \n",
       "4  {'iso_language_code': 'en', 'result_type': 're...   \n",
       "5  {'iso_language_code': 'en', 'result_type': 're...   \n",
       "6  {'iso_language_code': 'en', 'result_type': 're...   \n",
       "7  {'iso_language_code': 'en', 'result_type': 're...   \n",
       "8  {'iso_language_code': 'en', 'result_type': 're...   \n",
       "9  {'iso_language_code': 'en', 'result_type': 're...   \n",
       "\n",
       "                                              source  in_reply_to_status_id  \\\n",
       "0  <a href=\"https://mobile.twitter.com\" rel=\"nofo...                    NaN   \n",
       "1  <a href=\"https://mobile.twitter.com\" rel=\"nofo...                    NaN   \n",
       "2  <a href=\"http://twitter.com/download/iphone\" r...                    NaN   \n",
       "3  <a href=\"http://twitter.com/download/iphone\" r...           1.463897e+18   \n",
       "4  <a href=\"https://www.meltwater.com/\" rel=\"nofo...                    NaN   \n",
       "5  <a href=\"http://twitter.com/#!/download/ipad\" ...                    NaN   \n",
       "6  <a href=\"https://mobile.twitter.com\" rel=\"nofo...                    NaN   \n",
       "7  <a href=\"http://www.mangotree.com\" rel=\"nofoll...           1.463247e+18   \n",
       "8  <a href=\"https://sproutsocial.com\" rel=\"nofoll...                    NaN   \n",
       "9  <a href=\"https://mobile.twitter.com\" rel=\"nofo...                    NaN   \n",
       "\n",
       "   ... favorite_count  favorited retweeted lang possibly_sensitive  \\\n",
       "0  ...              0      False     False   en                NaN   \n",
       "1  ...              2      False     False   en              False   \n",
       "2  ...              0      False     False   ca                NaN   \n",
       "3  ...              1      False     False   en              False   \n",
       "4  ...              0      False     False   en              False   \n",
       "5  ...              1      False     False   en              False   \n",
       "6  ...              6      False     False   en              False   \n",
       "7  ...              1      False     False   en              False   \n",
       "8  ...              0      False     False   en              False   \n",
       "9  ...              0      False     False   en               True   \n",
       "\n",
       "  quoted_status_id quoted_status_id_str quoted_status extended_entities  \\\n",
       "0              NaN                  NaN           NaN               NaN   \n",
       "1              NaN                  NaN           NaN               NaN   \n",
       "2              NaN                  NaN           NaN               NaN   \n",
       "3              NaN                  NaN           NaN               NaN   \n",
       "4              NaN                  NaN           NaN               NaN   \n",
       "5              NaN                  NaN           NaN               NaN   \n",
       "6              NaN                  NaN           NaN               NaN   \n",
       "7              NaN                  NaN           NaN               NaN   \n",
       "8              NaN                  NaN           NaN               NaN   \n",
       "9              NaN                  NaN           NaN               NaN   \n",
       "\n",
       "   withheld_in_countries  \n",
       "0                    NaN  \n",
       "1                    NaN  \n",
       "2                    NaN  \n",
       "3                    NaN  \n",
       "4                    NaN  \n",
       "5                    NaN  \n",
       "6                    NaN  \n",
       "7                    NaN  \n",
       "8                    NaN  \n",
       "9                    NaN  \n",
       "\n",
       "[10 rows x 31 columns]"
      ]
     },
     "execution_count": 25,
     "metadata": {},
     "output_type": "execute_result"
    }
   ],
   "source": [
    "tweet_df = pd.DataFrame(list(tweet_cursor ))\n",
    "tweet_df[:10] #display the first 10 tweets"
   ]
  },
  {
   "cell_type": "code",
   "execution_count": 26,
   "metadata": {},
   "outputs": [
    {
     "data": {
      "text/plain": [
       "<AxesSubplot:>"
      ]
     },
     "execution_count": 26,
     "metadata": {},
     "output_type": "execute_result"
    },
    {
     "data": {
      "image/png": "[encoded data removed]",
      "text/plain": [
       "<Figure size 432x288 with 1 Axes>"
      ]
     },
     "metadata": {
      "needs_background": "light"
     },
     "output_type": "display_data"
    }
   ],
   "source": [
    "tweet_df[\"favorite_count\"].hist() # create a histogram show the favorite count"
   ]
  },
  {
   "cell_type": "code",
   "execution_count": null,
   "metadata": {},
   "outputs": [],
   "source": []
  }
 ],
 "metadata": {
  "kernelspec": {
   "display_name": "conda_python3",
   "language": "python",
   "name": "conda_python3"
  },
  "language_info": {
   "codemirror_mode": {
    "name": "ipython",
    "version": 3
   },
   "file_extension": ".py",
   "mimetype": "text/x-python",
   "name": "python",
   "nbconvert_exporter": "python",
   "pygments_lexer": "ipython3",
   "version": "3.6.13"
  }
 },
 "nbformat": 4,
 "nbformat_minor": 2
}
