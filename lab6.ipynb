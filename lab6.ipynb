{
 "cells": [
  {
   "cell_type": "markdown",
   "id": "30281e67",
   "metadata": {},
   "source": [
    "## import libraries "
   ]
  },
  {
   "cell_type": "code",
   "execution_count": 23,
   "id": "b0f38813",
   "metadata": {},
   "outputs": [],
   "source": [
    "import pandas\n",
    "import configparser\n",
    "import psycopg2"
   ]
  },
  {
   "cell_type": "code",
   "execution_count": 24,
   "id": "d352d633",
   "metadata": {},
   "outputs": [],
   "source": [
    "config = configparser.ConfigParser()\n",
    "config.read('config.ini')\n",
    "\n",
    "host = config['myaws']['host']\n",
    "db = config['myaws']['db']\n",
    "user = config['myaws']['user']\n",
    "pwd = config['myaws']['pwd']"
   ]
  },
  {
   "cell_type": "code",
   "execution_count": 25,
   "id": "87cf522e",
   "metadata": {},
   "outputs": [],
   "source": [
    "conn = psycopg2.connect(host = host,\n",
    "                       user = user,\n",
    "                        password = pwd,\n",
    "                        dbname = db\n",
    "                       )\n",
    "cur = conn.cursor()"
   ]
  },
  {
   "cell_type": "markdown",
   "id": "ffc18e26",
   "metadata": {},
   "source": [
    "## create the house table"
   ]
  },
  {
   "cell_type": "markdown",
   "id": "cc0583d3",
   "metadata": {},
   "source": [
    "make sure change the schema name to your gp number"
   ]
  },
  {
   "cell_type": "code",
   "execution_count": 26,
   "id": "eae56f28",
   "metadata": {},
   "outputs": [],
   "source": [
    "\n",
    "\n",
    "# replace the schema and table name to your schema and table name\n",
    "table_sql = \"\"\"\n",
    "            CREATE TABLE IF NOT EXISTS gp1.house\n",
    "            (\n",
    "\n",
    "                price integer,\n",
    "                bed integer,\n",
    "                bath integer,\n",
    "                area integer,\n",
    "                address VARCHAR(200),\n",
    "                PRIMARY KEY(address)\n",
    "            );\n",
    "\n",
    "            \"\"\"\n",
    "\n"
   ]
  },
  {
   "cell_type": "markdown",
   "id": "139e3b28",
   "metadata": {},
   "source": [
    "use the bellow cell only if you want to delete the table"
   ]
  },
  {
   "cell_type": "code",
   "execution_count": 27,
   "id": "1a96acee",
   "metadata": {},
   "outputs": [],
   "source": [
    "#conn.rollback()\n",
    "#table_sql=\"drop table if exists demo.house\""
   ]
  },
  {
   "cell_type": "code",
   "execution_count": 28,
   "id": "13c48be1",
   "metadata": {},
   "outputs": [],
   "source": [
    "\n",
    "cur.execute(table_sql)\n",
    "conn.commit()"
   ]
  },
  {
   "cell_type": "markdown",
   "id": "f985cb4b",
   "metadata": {},
   "source": [
    "## define the search region"
   ]
  },
  {
   "cell_type": "code",
   "execution_count": 29,
   "id": "15432c6d",
   "metadata": {},
   "outputs": [],
   "source": [
    "url = 'https://www.trulia.com/VA/Fairfax/22032/'"
   ]
  },
  {
   "cell_type": "code",
   "execution_count": 30,
   "id": "bf115146",
   "metadata": {},
   "outputs": [],
   "source": [
    "\n",
    "\n",
    "import urllib.request\n",
    "response = urllib.request.urlopen(url)\n",
    "html_data= response.read()\n",
    "# print(html_data.decode('utf-8'))\n",
    "\n"
   ]
  },
  {
   "cell_type": "code",
   "execution_count": 31,
   "id": "244b1563",
   "metadata": {
    "scrolled": true
   },
   "outputs": [],
   "source": [
    "\n",
    "\n",
    "from bs4 import BeautifulSoup\n",
    "soup = BeautifulSoup(html_data,'html.parser')\n",
    "# print (soup)\n",
    "\n"
   ]
  },
  {
   "cell_type": "markdown",
   "id": "2c9e0afb",
   "metadata": {},
   "source": [
    "## insert the records into database"
   ]
  },
  {
   "cell_type": "code",
   "execution_count": 32,
   "id": "5d0dc05b",
   "metadata": {},
   "outputs": [],
   "source": [
    "\n",
    "for li_class in soup.find_all('li', class_ = 'Grid__CellBox-sc-144isrp-0 SearchResultsList__WideCell-b7y9ki-2 jiZmPM'):\n",
    "    try:\n",
    "        for price_div in li_class.find_all('div',{'data-testid':'property-price'}):\n",
    "            price =int(price_div.text.replace('$','').replace(\",\",\"\"))\n",
    "        for bed_div in li_class.find_all('div', {'data-testid':'property-beds'}):\n",
    "            bed= int(bed_div.text.replace('bd','').replace(\",\",\"\"))\n",
    "        for bath_div in li_class.find_all('div',{'data-testid':'property-baths'}):\n",
    "            bath =int(bath_div.text.replace('ba','').replace(\",\",\"\"))\n",
    "        for area_div in li_class.find_all('div',{'data-testid':'property-floorSpace'}):\n",
    "            area=int(area_div.text.split('sqft')[0].replace(\",\",\"\"))\n",
    "        for address_div in li_class.find_all('div',{'data-testid':'property-address'}):\n",
    "            address =address_div.text\n",
    "\n",
    "        try:\n",
    "            sql_insert = \"\"\"\n",
    "                        insert into gp1.house(price,bed,bath,area,address)\n",
    "                        values('{}','{}','{}','{}','{}')            \n",
    "                        \"\"\".format(price,bed,bath,area,address)\n",
    "\n",
    "            cur.execute(sql_insert)\n",
    "            conn.commit()\n",
    "        except:\n",
    "            conn.rollback()\n",
    "    except:\n",
    "        pass\n",
    "        "
   ]
  },
  {
   "cell_type": "markdown",
   "id": "05be209a",
   "metadata": {},
   "source": [
    "## Query the Table"
   ]
  },
  {
   "cell_type": "code",
   "execution_count": 36,
   "id": "838df13f",
   "metadata": {},
   "outputs": [
    {
     "data": {
      "text/html": [
       "<div>\n",
       "<style scoped>\n",
       "    .dataframe tbody tr th:only-of-type {\n",
       "        vertical-align: middle;\n",
       "    }\n",
       "\n",
       "    .dataframe tbody tr th {\n",
       "        vertical-align: top;\n",
       "    }\n",
       "\n",
       "    .dataframe thead th {\n",
       "        text-align: right;\n",
       "    }\n",
       "</style>\n",
       "<table border=\"1\" class=\"dataframe\">\n",
       "  <thead>\n",
       "    <tr style=\"text-align: right;\">\n",
       "      <th></th>\n",
       "      <th>price</th>\n",
       "      <th>bed</th>\n",
       "      <th>bath</th>\n",
       "      <th>area</th>\n",
       "      <th>address</th>\n",
       "    </tr>\n",
       "  </thead>\n",
       "  <tbody>\n",
       "    <tr>\n",
       "      <th>0</th>\n",
       "      <td>429000</td>\n",
       "      <td>4</td>\n",
       "      <td>3</td>\n",
       "      <td>2392</td>\n",
       "      <td>1038 James Pl, Harrisonburg, VA 22801</td>\n",
       "    </tr>\n",
       "    <tr>\n",
       "      <th>1</th>\n",
       "      <td>334900</td>\n",
       "      <td>4</td>\n",
       "      <td>3</td>\n",
       "      <td>1584</td>\n",
       "      <td>135 Port Republic Rd, Harrisonburg, VA 22801</td>\n",
       "    </tr>\n",
       "    <tr>\n",
       "      <th>2</th>\n",
       "      <td>199900</td>\n",
       "      <td>4</td>\n",
       "      <td>1</td>\n",
       "      <td>1285</td>\n",
       "      <td>786 Foley Rd, Harrisonburg, VA 22801</td>\n",
       "    </tr>\n",
       "    <tr>\n",
       "      <th>3</th>\n",
       "      <td>329080</td>\n",
       "      <td>3</td>\n",
       "      <td>2</td>\n",
       "      <td>1296</td>\n",
       "      <td>2095 Tailor Dr, Harrisonburg, VA 22801</td>\n",
       "    </tr>\n",
       "    <tr>\n",
       "      <th>4</th>\n",
       "      <td>372980</td>\n",
       "      <td>3</td>\n",
       "      <td>2</td>\n",
       "      <td>1366</td>\n",
       "      <td>2070 Tailor Dr, Harrisonburg, VA 22801</td>\n",
       "    </tr>\n",
       "    <tr>\n",
       "      <th>...</th>\n",
       "      <td>...</td>\n",
       "      <td>...</td>\n",
       "      <td>...</td>\n",
       "      <td>...</td>\n",
       "      <td>...</td>\n",
       "    </tr>\n",
       "    <tr>\n",
       "      <th>90</th>\n",
       "      <td>895000</td>\n",
       "      <td>5</td>\n",
       "      <td>4</td>\n",
       "      <td>3180</td>\n",
       "      <td>8708 Chippendale Ct, Annandale, VA 22003</td>\n",
       "    </tr>\n",
       "    <tr>\n",
       "      <th>91</th>\n",
       "      <td>405000</td>\n",
       "      <td>3</td>\n",
       "      <td>3</td>\n",
       "      <td>1610</td>\n",
       "      <td>3787 Persimmon Cir, Fairfax, VA 22031</td>\n",
       "    </tr>\n",
       "    <tr>\n",
       "      <th>92</th>\n",
       "      <td>624900</td>\n",
       "      <td>4</td>\n",
       "      <td>3</td>\n",
       "      <td>2624</td>\n",
       "      <td>8304 Carrleigh Pkwy, Springfield, VA 22152</td>\n",
       "    </tr>\n",
       "    <tr>\n",
       "      <th>93</th>\n",
       "      <td>529000</td>\n",
       "      <td>3</td>\n",
       "      <td>4</td>\n",
       "      <td>2242</td>\n",
       "      <td>6071 Guildhall Ct, Burke, VA 22015</td>\n",
       "    </tr>\n",
       "    <tr>\n",
       "      <th>94</th>\n",
       "      <td>479000</td>\n",
       "      <td>3</td>\n",
       "      <td>4</td>\n",
       "      <td>1398</td>\n",
       "      <td>5811 Walden Commons Ct #125, Burke, VA 22015</td>\n",
       "    </tr>\n",
       "  </tbody>\n",
       "</table>\n",
       "<p>95 rows × 5 columns</p>\n",
       "</div>"
      ],
      "text/plain": [
       "     price  bed  bath  area                                       address\n",
       "0   429000    4     3  2392         1038 James Pl, Harrisonburg, VA 22801\n",
       "1   334900    4     3  1584  135 Port Republic Rd, Harrisonburg, VA 22801\n",
       "2   199900    4     1  1285          786 Foley Rd, Harrisonburg, VA 22801\n",
       "3   329080    3     2  1296        2095 Tailor Dr, Harrisonburg, VA 22801\n",
       "4   372980    3     2  1366        2070 Tailor Dr, Harrisonburg, VA 22801\n",
       "..     ...  ...   ...   ...                                           ...\n",
       "90  895000    5     4  3180      8708 Chippendale Ct, Annandale, VA 22003\n",
       "91  405000    3     3  1610         3787 Persimmon Cir, Fairfax, VA 22031\n",
       "92  624900    4     3  2624    8304 Carrleigh Pkwy, Springfield, VA 22152\n",
       "93  529000    3     4  2242            6071 Guildhall Ct, Burke, VA 22015\n",
       "94  479000    3     4  1398  5811 Walden Commons Ct #125, Burke, VA 22015\n",
       "\n",
       "[95 rows x 5 columns]"
      ]
     },
     "execution_count": 36,
     "metadata": {},
     "output_type": "execute_result"
    }
   ],
   "source": [
    "df = pandas.read_sql_query('select * from gp1.house ', conn)\n",
    "df[:]"
   ]
  },
  {
   "cell_type": "markdown",
   "id": "01e252cf",
   "metadata": {},
   "source": [
    "## basic stat"
   ]
  },
  {
   "cell_type": "code",
   "execution_count": 34,
   "id": "2683cfb4",
   "metadata": {},
   "outputs": [
    {
     "data": {
      "text/html": [
       "<div>\n",
       "<style scoped>\n",
       "    .dataframe tbody tr th:only-of-type {\n",
       "        vertical-align: middle;\n",
       "    }\n",
       "\n",
       "    .dataframe tbody tr th {\n",
       "        vertical-align: top;\n",
       "    }\n",
       "\n",
       "    .dataframe thead th {\n",
       "        text-align: right;\n",
       "    }\n",
       "</style>\n",
       "<table border=\"1\" class=\"dataframe\">\n",
       "  <thead>\n",
       "    <tr style=\"text-align: right;\">\n",
       "      <th></th>\n",
       "      <th>price</th>\n",
       "      <th>bed</th>\n",
       "      <th>bath</th>\n",
       "      <th>area</th>\n",
       "    </tr>\n",
       "  </thead>\n",
       "  <tbody>\n",
       "    <tr>\n",
       "      <th>count</th>\n",
       "      <td>9.500000e+01</td>\n",
       "      <td>95.000000</td>\n",
       "      <td>95.000000</td>\n",
       "      <td>95.000000</td>\n",
       "    </tr>\n",
       "    <tr>\n",
       "      <th>mean</th>\n",
       "      <td>5.885560e+05</td>\n",
       "      <td>3.663158</td>\n",
       "      <td>3.252632</td>\n",
       "      <td>2409.094737</td>\n",
       "    </tr>\n",
       "    <tr>\n",
       "      <th>std</th>\n",
       "      <td>3.547857e+05</td>\n",
       "      <td>1.154183</td>\n",
       "      <td>1.237434</td>\n",
       "      <td>1474.383940</td>\n",
       "    </tr>\n",
       "    <tr>\n",
       "      <th>min</th>\n",
       "      <td>1.149000e+05</td>\n",
       "      <td>1.000000</td>\n",
       "      <td>1.000000</td>\n",
       "      <td>596.000000</td>\n",
       "    </tr>\n",
       "    <tr>\n",
       "      <th>25%</th>\n",
       "      <td>3.841625e+05</td>\n",
       "      <td>3.000000</td>\n",
       "      <td>3.000000</td>\n",
       "      <td>1590.000000</td>\n",
       "    </tr>\n",
       "    <tr>\n",
       "      <th>50%</th>\n",
       "      <td>5.100000e+05</td>\n",
       "      <td>4.000000</td>\n",
       "      <td>3.000000</td>\n",
       "      <td>2000.000000</td>\n",
       "    </tr>\n",
       "    <tr>\n",
       "      <th>75%</th>\n",
       "      <td>6.998940e+05</td>\n",
       "      <td>4.000000</td>\n",
       "      <td>4.000000</td>\n",
       "      <td>2656.500000</td>\n",
       "    </tr>\n",
       "    <tr>\n",
       "      <th>max</th>\n",
       "      <td>1.975000e+06</td>\n",
       "      <td>7.000000</td>\n",
       "      <td>7.000000</td>\n",
       "      <td>7689.000000</td>\n",
       "    </tr>\n",
       "  </tbody>\n",
       "</table>\n",
       "</div>"
      ],
      "text/plain": [
       "              price        bed       bath         area\n",
       "count  9.500000e+01  95.000000  95.000000    95.000000\n",
       "mean   5.885560e+05   3.663158   3.252632  2409.094737\n",
       "std    3.547857e+05   1.154183   1.237434  1474.383940\n",
       "min    1.149000e+05   1.000000   1.000000   596.000000\n",
       "25%    3.841625e+05   3.000000   3.000000  1590.000000\n",
       "50%    5.100000e+05   4.000000   3.000000  2000.000000\n",
       "75%    6.998940e+05   4.000000   4.000000  2656.500000\n",
       "max    1.975000e+06   7.000000   7.000000  7689.000000"
      ]
     },
     "execution_count": 34,
     "metadata": {},
     "output_type": "execute_result"
    }
   ],
   "source": [
    "df.describe()"
   ]
  },
  {
   "cell_type": "markdown",
   "id": "0096920b",
   "metadata": {},
   "source": [
    "## price distribution"
   ]
  },
  {
   "cell_type": "code",
   "execution_count": 35,
   "id": "a27812cc",
   "metadata": {},
   "outputs": [
    {
     "data": {
      "text/plain": [
       "<AxesSubplot:>"
      ]
     },
     "execution_count": 35,
     "metadata": {},
     "output_type": "execute_result"
    },
    {
     "data": {
      "image/png": "[encoded data removed]",
      "text/plain": [
       "<Figure size 432x288 with 1 Axes>"
      ]
     },
     "metadata": {
      "needs_background": "light"
     },
     "output_type": "display_data"
    }
   ],
   "source": [
    "df['price'].hist()"
   ]
  },
  {
   "cell_type": "markdown",
   "id": "b8f5c716",
   "metadata": {},
   "source": [
    "## bed vs bath"
   ]
  },
  {
   "cell_type": "code",
   "execution_count": 17,
   "id": "5ecc4347",
   "metadata": {},
   "outputs": [
    {
     "data": {
      "text/plain": [
       "<AxesSubplot:xlabel='bed', ylabel='bath'>"
      ]
     },
     "execution_count": 17,
     "metadata": {},
     "output_type": "execute_result"
    },
    {
     "data": {
      "image/png": "[encoded data removed]",
      "text/plain": [
       "<Figure size 432x288 with 1 Axes>"
      ]
     },
     "metadata": {
      "needs_background": "light"
     },
     "output_type": "display_data"
    }
   ],
   "source": [
    "df.plot.scatter(x='bed',y='bath')"
   ]
  },
  {
   "cell_type": "code",
   "execution_count": null,
   "id": "93174a8e",
   "metadata": {},
   "outputs": [],
   "source": []
  }
 ],
 "metadata": {
  "kernelspec": {
   "display_name": "conda_python3",
   "language": "python",
   "name": "conda_python3"
  },
  "language_info": {
   "codemirror_mode": {
    "name": "ipython",
    "version": 3
   },
   "file_extension": ".py",
   "mimetype": "text/x-python",
   "name": "python",
   "nbconvert_exporter": "python",
   "pygments_lexer": "ipython3",
   "version": "3.6.13"
  }
 },
 "nbformat": 4,
 "nbformat_minor": 5
}
